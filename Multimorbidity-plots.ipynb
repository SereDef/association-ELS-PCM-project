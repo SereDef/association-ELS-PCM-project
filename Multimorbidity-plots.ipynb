{
 "cells": [
  {
   "cell_type": "markdown",
   "metadata": {},
   "source": [
    "# Internalizing problems and cardio-metabolic health in childhood ( 9-10 y)\n",
    "\n",
    "\n",
    "Hello there, here is a little playgroung for exploring the relationship between internalizing symptoms and a range or cardio-metabolic health markers measured in 9-10 year-old children from the Generation R study (https://generationr.nl/). \n",
    "\n",
    "NOTE: this is still a work in progress! If you have any suggestions of notice typos/mistakes, please email me. "
   ]
  },
  {
   "cell_type": "markdown",
   "metadata": {},
   "source": [
    "##### First, let's get the dependencies we need"
   ]
  },
  {
   "cell_type": "code",
   "execution_count": null,
   "metadata": {},
   "outputs": [],
   "source": [
    "# getting to the data\n",
    "import os.path\n",
    "\n",
    "# data storage and handling\n",
    "import pandas as pd; import numpy as np;\n",
    "\n",
    "# plotting\n",
    "import matplotlib.pyplot as plt; import seaborn as sns; \n",
    "sns.set()\n",
    "%matplotlib inline\n",
    "\n",
    "# make merging easier\n",
    "from functools import reduce\n",
    "\n",
    "# ignore warnings \n",
    "import warnings\n",
    "warnings.filterwarnings('ignore')"
   ]
  },
  {
   "cell_type": "code",
   "execution_count": null,
   "metadata": {},
   "outputs": [],
   "source": [
    "# Point to the raw data\n",
    "pathtodata = input(\"Enter the path to data: \")\n",
    "\n",
    "if os.path.exists(pathtodata) == False:\n",
    "    pathtodata = input(\"Not quite, try again: \")"
   ]
  },
  {
   "cell_type": "code",
   "execution_count": null,
   "metadata": {},
   "outputs": [],
   "source": [
    "# This function reads SPSS format data files into pandas dataframes and sets the IDC column as index \n",
    "# Once I am at it, I get rid of empty rows as well\n",
    "\n",
    "def read_and_clean(file, path = pathtodata):\n",
    "    # read in the .sav file\n",
    "    df = pd.read_spss(pathtodata + file)\n",
    "    # set IDC to be the index rather than a column\n",
    "    df.IDC = pd.to_numeric(df.IDC, downcast = 'integer')\n",
    "    df.index = df.IDC\n",
    "    df = df.drop(['IDC'], axis = 1)\n",
    "    # drop children with no available data \n",
    "    df = df.dropna(how = 'all')\n",
    "    return df"
   ]
  },
  {
   "cell_type": "markdown",
   "metadata": {},
   "source": [
    "#### GET CARDIO-METABOLIC & INTERNALIZING DATA"
   ]
  },
  {
   "cell_type": "code",
   "execution_count": null,
   "metadata": {},
   "outputs": [],
   "source": [
    "# Read in the datasets\n",
    "dxadata = read_and_clean(\"CHILDFATMASS9_13092016.sav\") # 5862 obs of 27 vars\n",
    "bp = read_and_clean(\"CHILDBLOODPRESSURE9_21042016.sav\") # 5862 obs of 27 vars\n",
    "serum = read_and_clean(\"CHILDSERUM9_01082017.sav\") # 5862 obs of 12 vars\n",
    "growth = read_and_clean('CHILDGROWTH9_04062020.sav') # 5862 obs of 12 vars\n",
    "obesity_dich = read_and_clean('CHILDOBESITY9_04062020.sav') # 5686 obs of 1 vars\n",
    "\n",
    "# Extract only relevant variables and rename them to get rid of those horrorific variable names\n",
    "fatmass = dxadata[['fat_mass_armsCHILD9', 'fat_mass_legsCHILD9','fat_mass_trunkCHILD9','fat_mass_androidCHILD9',\n",
    "                   'avg_percent_fat','fat_mass_totalCHILD9','fat_mass_totalnoheadCHILD9']].dropna(how = 'all') # 5637 obs of 7 vars\n",
    "fatmass.columns = ['fat_arms','fat_legs','fat_trunk','fat_android','fat_percent_avg','fat_total', 'fat_total_nohead']\n",
    "\n",
    "bp = bp[['MEANSBP_ex1_child9', 'MEANDBP_ex1_child9']].dropna(how = 'all') # 5490 obs of 2 vars\n",
    "bp.columns = ['SBP', 'DBP']\n",
    "\n",
    "serum = serum.drop(['agechild9','KreatinineChild9_clean'], axis = 1).dropna(how = 'all') # 3958 obs of 10 vars\n",
    "serum.columns = ['insuline','log_insuline','glucose','glucose_focus','cholesterol','crp','crp_categ','hdl_cholesterol','triglyc','log_triglyc']\n",
    "\n",
    "bmi = growth[['sdsbmiforage9childT']].dropna(how = 'all') # 5861 obs of 1 vars\n",
    "bmi.columns = ['BMI_4age']"
   ]
  },
  {
   "cell_type": "code",
   "execution_count": null,
   "metadata": {},
   "outputs": [],
   "source": [
    "# Read in the datasets\n",
    "cbcl = read_and_clean(\"CHILDCBCL9_10082016.sav\") # 5523 obs. of 626 vars\n",
    "\n",
    "# Extract only relevant variables \n",
    "intern = cbcl[[ # 'AgeChild_CBCL9m',\n",
    "              'cbcl5_9m',   # there is very little he/she enjoys\n",
    "              'cbcl14_9m',  # cries a lot\n",
    "              'cbcl29_9m',  # fears certain animals, situations or places other than school\n",
    "              'cbcl30_9m',  # fears going to school\n",
    "              'cbcl31_9m',  # fears he/she might think or do something bad\n",
    "              'cbcl32_9m',  # feels he/she has to be perfect\n",
    "              'cbcl33_9m',  # feels or complains that no one loves him/her\n",
    "              'cbcl35_9m',  # feels worthless or inferior\n",
    "              'cbcl42_9m',  # would rather be lone than with others\n",
    "              'cbcl45_9m',  # nervous, highstrung or tense\n",
    "              'cbcl47_9m',  # nightmares\n",
    "              'cbcl49_9m',  # Constipated, doesn't move bowels\n",
    "              'cbcl50_9m',  # too fearful or anxious\n",
    "              'cbcl51_9m',  # feels dizzy or lightheaded\n",
    "              'cbcl52_9m',  # feels too guilty\n",
    "              'cbcl54_9m',  # overtired without good reason\n",
    "              'cbcl56a_9m', # physical problems without medical cause ...aches or pains(not stomach or headaches)\n",
    "              'cbcl56b_9m', # ...headaches\n",
    "              'cbcl56c_9m', # ...nausea, feels sick\n",
    "              'cbcl56d_9m', # ...problems with eyes (not if corrected with glasses)\n",
    "              'cbcl56e_9m', # ...rashes or other skin problems\n",
    "              'cbcl56f_9m', # ...stomachaches\n",
    "              'cbcl56g_9m', # ...vomiting, throwing up\n",
    "              'cbcl65_9m',  # refuses to talk\n",
    "              'cbcl69_9m',  # secretive, keeps things to self\n",
    "              'cbcl71_9m',  # self-conscious or easily embarrassed\n",
    "              'cbcl75_9m',  # too shy or timid\n",
    "              'cbcl91_9m',  # talks about killing self\n",
    "              'cbcl102_9m', # underactive, slow moving, or lacks energy\n",
    "              'cbcl103_9m', # unhappy, sad, or depressed\n",
    "              'cbcl111_9m', # withdrawn, doesn't get involved with others\n",
    "              'cbcl112_9m', # worries\n",
    "              'Nmisint_9m', # number of missing values in internalizing scale items\n",
    "              'sum_int_9m'  # weighted sum score internalizing scale (allowing 25% missing)\n",
    "               # Calculation (based on SPSS script available on the V: drive): if 24 out of 32 items are available\n",
    "               # (i.e. 75%), sum of the item scores * (32 / 32 - nmisnt_9m). \n",
    "]].dropna(how = 'all') # 4962 obs of 34 vars"
   ]
  },
  {
   "cell_type": "code",
   "execution_count": null,
   "metadata": {},
   "outputs": [],
   "source": [
    "# child_general = read_and_clean(\"CHILD-ALLGENERALDATA_07072020.sav\") # 9901 obs of 121 "
   ]
  },
  {
   "cell_type": "code",
   "execution_count": null,
   "metadata": {},
   "outputs": [],
   "source": [
    "# Merge the datasets toghether \n",
    "dfs = [intern, fatmass, bp, serum, bmi, obesity_dich]\n",
    "multim = reduce(lambda left,right: pd.merge(left, right, on = 'IDC'), dfs)"
   ]
  },
  {
   "cell_type": "markdown",
   "metadata": {},
   "source": [
    "<h2><center>Ok, let the plotting begin!</center></h2>\n",
    "\n",
    "#### ORIGINAL VARIABLES"
   ]
  },
  {
   "cell_type": "code",
   "execution_count": null,
   "metadata": {
    "scrolled": false
   },
   "outputs": [],
   "source": [
    "# Plot internalizing score against all cardio-metabolic variables available \n",
    "for i in range(1,21):\n",
    "    if not i == 16: # CRP categorized has issues with jointplot, I will fix later\n",
    "        p = sns.jointplot(data = multim, x = multim.columns[33+i], y = \"sum_int_9m\", kind=\"reg\")\n",
    "        p.set_axis_labels(multim.columns[33+i],'Internalizing symptoms', fontsize = 14)"
   ]
  },
  {
   "cell_type": "markdown",
   "metadata": {},
   "source": [
    "The original variables did not seem to work well. \n",
    "\n",
    "Especially Internalizing is visibly very skewed. So, I tryed to normalize it by taking the log (that also didn't work very well).  "
   ]
  },
  {
   "cell_type": "code",
   "execution_count": null,
   "metadata": {},
   "outputs": [],
   "source": [
    "# let's try to normalize internalizing as it is very skewed\n",
    "multim['log_intern'] = np.log(multim.sum_int_9m)\n",
    "# quick and dirty fix -infinity values before plotting\n",
    "multim.log_intern[multim.log_intern == -np.inf] = -0.0001\n",
    "\n",
    "# plot\n",
    "logplot = sns.jointplot(data = multim, x = \"log_intern\", y = \"sum_int_9m\" , kind=\"reg\", height = 3)\n",
    "logplot.set_axis_labels('Internalizing - natural log', 'Internalizing - original variable', fontsize = 12)"
   ]
  },
  {
   "cell_type": "markdown",
   "metadata": {},
   "source": [
    "Let's have a look at the individual components (i.e items) of the internalizing score, hoping for more insightful plots"
   ]
  },
  {
   "cell_type": "code",
   "execution_count": null,
   "metadata": {},
   "outputs": [],
   "source": [
    "# List the items' content for more meaningful labels\n",
    "cbcl_items = ['05 - very little he/she enjoys', '14 - cries a lot', '29 - fears animals, situations, places excluding school',\n",
    "         '30 - fears going to school', '31 - fear to think or do something bad', '32 - feels he/she has to be perfect',\n",
    "         '33 - feels or complains that no one loves him/her', '35 - feels worthless or inferior', '42 - would rather be alone',\n",
    "         '45 - nervous, highstrung or tense', '47 - nightmares', '49 - constipated', '50 - too fearful or anxious',\n",
    "         '51 - dizzy or lightheaded', '52 - feels too guilty', '54 - overtired without reason', '56a - aches or pains excluding stomach or headaches',\n",
    "         '56b - headaches', '56c - nausea, feels sick', '56d - problems with eyes not corrected with glasses', '56e - rashes or other skin problems',\n",
    "         '56f - stomachaches', '56g - vomiting, throwing up','65 - refuses to talk', '69 - secretive, keeps things to self',\n",
    "         '71 - self-conscious or easily embarrassed', '75 - too shy or timid', '91 - talks about killing self',\n",
    "         '102 - underactive, slow moving, lacks energy', '103 - unhappy, sad, or depressed', '111 - withdrawn, not involved with others',\n",
    "         '112 - worries']"
   ]
  },
  {
   "cell_type": "markdown",
   "metadata": {},
   "source": [
    "#### INTERNALIZING ITEMS vs TOTAL FAT MASS"
   ]
  },
  {
   "cell_type": "code",
   "execution_count": null,
   "metadata": {
    "scrolled": true
   },
   "outputs": [],
   "source": [
    "for i in range(32):\n",
    "    p = sns.jointplot(data = multim, x = multim.columns[i], y = \"fat_total\", kind=\"reg\", xlim = (-0.5,2.5))\n",
    "    p.set_axis_labels(cbcl_items[i],'Total Fat Mass', fontsize = 14)"
   ]
  },
  {
   "cell_type": "markdown",
   "metadata": {},
   "source": [
    "#### INTERNALIZING ITEMS vs BMI"
   ]
  },
  {
   "cell_type": "code",
   "execution_count": null,
   "metadata": {
    "scrolled": true
   },
   "outputs": [],
   "source": [
    "for i in range(32):\n",
    "    p = sns.jointplot(data = multim, x = multim.columns[i], y = \"BMI_4age\", kind=\"reg\", xlim = (-0.5,2.5))\n",
    "    p.set_axis_labels(cbcl_items[i],'BMI sds for age', fontsize = 14)"
   ]
  },
  {
   "cell_type": "markdown",
   "metadata": {},
   "source": [
    "#### INTERNALIZING ITEMS vs C-REACTIVE PROTEIN"
   ]
  },
  {
   "cell_type": "code",
   "execution_count": null,
   "metadata": {},
   "outputs": [],
   "source": [
    "# First, let's have a closer look ar CRP variable, also extremely skewed\n",
    "g = sns.displot(multim, x = \"crp\", kind = \"kde\", bw_adjust = .25)\n",
    "g.fig.set_size_inches(15,2)"
   ]
  },
  {
   "cell_type": "code",
   "execution_count": null,
   "metadata": {},
   "outputs": [],
   "source": [
    "for i in range(32):\n",
    "    p = sns.jointplot(data = multim, x = multim.columns[i], y = \"crp\", kind=\"reg\", xlim = (-0.5,2.5))\n",
    "    p.set_axis_labels(cbcl_items[i],'C-reactive protein', fontsize = 14)"
   ]
  }
 ],
 "metadata": {
  "kernelspec": {
   "display_name": "Python 3",
   "language": "python",
   "name": "python3"
  },
  "language_info": {
   "codemirror_mode": {
    "name": "ipython",
    "version": 3
   },
   "file_extension": ".py",
   "mimetype": "text/x-python",
   "name": "python",
   "nbconvert_exporter": "python",
   "pygments_lexer": "ipython3",
   "version": "3.8.2"
  }
 },
 "nbformat": 4,
 "nbformat_minor": 4
}
